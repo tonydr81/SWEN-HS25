{
 "cells": [
  {
   "cell_type": "markdown",
   "metadata": {},
   "source": [
    "# Recap"
   ]
  },
  {
   "cell_type": "markdown",
   "metadata": {},
   "source": [
    "Die wichtigsten Elemente von Funktionen"
   ]
  },
  {
   "cell_type": "code",
   "execution_count": 1,
   "metadata": {},
   "outputs": [],
   "source": [
    "def funktions_name(parameter1, parameter2, parameter_mit_default=4):\n",
    "    lokale_variable = parameter1 + +parameter2 + parameter_mit_default\n",
    "    return lokale_variable\n",
    "\n",
    "resultat = funktions_name(1, 3)  # für den dritten Parameter müssen wir nicht unbedingt einen Werte übergeben\n",
    "#print(lokale_variable)  # diese Zeile wird nicht funktionieren, da `lokale_variable` hier nicht mehr sichtbar ist"
   ]
  },
  {
   "cell_type": "markdown",
   "metadata": {},
   "source": [
    "## Fragen aus der Aufgabe \"Weihnachtsbaum zeichnen\"\n",
    "\n",
    "Bei einer Lösung tauchte das Problem auf, dass eine Zahl nicht korrekt verwendet werden konnte, um damit ein Zeichen mehrfach zu wiederholen. Dies Problem konnte behoben werden, indem man einfach ein `/` durch ein `//` ersetzt. Warum hilft das? Was macht das überhaupt?\n",
    "\n",
    "Das Problem lässt sich ganz einfach erkennen, wenn man dividiert und das Resultat für eine Multiplikation mit einem Zeichen verwenden will:"
   ]
  },
  {
   "cell_type": "code",
   "execution_count": 31,
   "metadata": {},
   "outputs": [
    {
     "ename": "TypeError",
     "evalue": "can't multiply sequence by non-int of type 'float'",
     "output_type": "error",
     "traceback": [
      "\u001b[31m---------------------------------------------------------------------------\u001b[39m",
      "\u001b[31mTypeError\u001b[39m                                 Traceback (most recent call last)",
      "\u001b[36mCell\u001b[39m\u001b[36m \u001b[39m\u001b[32mIn[31]\u001b[39m\u001b[32m, line 1\u001b[39m\n\u001b[32m----> \u001b[39m\u001b[32m1\u001b[39m \u001b[43m(\u001b[49m\u001b[32;43m5\u001b[39;49m\u001b[43m \u001b[49m\u001b[43m/\u001b[49m\u001b[43m \u001b[49m\u001b[32;43m2\u001b[39;49m\u001b[43m)\u001b[49m\u001b[43m \u001b[49m\u001b[43m*\u001b[49m\u001b[43m \u001b[49m\u001b[33;43m\"\u001b[39;49m\u001b[33;43m#\u001b[39;49m\u001b[33;43m\"\u001b[39;49m\n",
      "\u001b[31mTypeError\u001b[39m: can't multiply sequence by non-int of type 'float'"
     ]
    }
   ],
   "source": [
    "(5 / 2) * \"#\""
   ]
  },
  {
   "cell_type": "markdown",
   "metadata": {},
   "source": [
    "Auf Deutsch übersetzt heisst dies soviel wie \"ich kann keine `float`-Zahl mit einer Zeichenkette multiplizieren, ich bräuchte da eine ganze Zahl, ein `int`\".\n",
    "\n",
    "Mit der Funktion `type()` können wir uns den Typ eines Werts ausgeben lassen. Wenn wir dies mit der Rechnung `5 / 2` machen, stellen wir fest, dass hier tatsächlich ein `float` mit dem Wert `2.5` entsteht:"
   ]
  },
  {
   "cell_type": "code",
   "execution_count": 33,
   "metadata": {},
   "outputs": [
    {
     "data": {
      "text/plain": [
       "(float, 2.5)"
      ]
     },
     "execution_count": 33,
     "metadata": {},
     "output_type": "execute_result"
    }
   ],
   "source": [
    "type(5/2), 5/2"
   ]
  },
  {
   "cell_type": "markdown",
   "metadata": {},
   "source": [
    "Wir müssen also aus diesem Wert irgendwie einen `int` erzeugen. Dafür gibt es zwei Möglichkeiten.\n",
    "\n",
    "**Möglichkeit 1** wir nutzen die bereits bekannte Funktion `int()`, um diesen Wert durch Abschneiden des Nachkommaanteils einfach in eine ganze Zahl zu verwandeln. **!!Wichtig!!** es handelt es sich tatsächlich einfach um ein Abschneiden und nicht um ein Runden. Mathematisch entspricht dies der Abrundungsfunktion (Engl. *floor* Funktion): $$v = \\lfloor 5/2 \\rfloor$$"
   ]
  },
  {
   "cell_type": "code",
   "execution_count": 34,
   "metadata": {},
   "outputs": [
    {
     "data": {
      "text/plain": [
       "2"
      ]
     },
     "execution_count": 34,
     "metadata": {},
     "output_type": "execute_result"
    }
   ],
   "source": [
    "int(5/2)"
   ]
  },
  {
   "cell_type": "markdown",
   "metadata": {},
   "source": [
    "Als Ergänzung sei erwähnt, dass es in Python auch eine \"echte\" Rundungsfunktion gibt. Diese benötigt neben der zu rundenden Zahl auch die Anzahl gewünschter Nachkommastellen:"
   ]
  },
  {
   "cell_type": "code",
   "execution_count": 35,
   "metadata": {},
   "outputs": [
    {
     "data": {
      "text/plain": [
       "2.0"
      ]
     },
     "execution_count": 35,
     "metadata": {},
     "output_type": "execute_result"
    }
   ],
   "source": [
    "round(5/2, 0)"
   ]
  },
  {
   "cell_type": "markdown",
   "metadata": {},
   "source": [
    "Man beachte aber, dass diese Funktion auch wieder ein `float` zurückliefert und auch dieser wieder in ein `int` verwandelt werden müsste, wenn man ihn mit Zeichenketten kombinieren möchte."
   ]
  },
  {
   "cell_type": "markdown",
   "metadata": {},
   "source": [
    "**Möglichkeit 2** verhindert das Entstehen von `floats` schon bei der Berechnung. Bei den Operationen `+`, `-` und `*` bleiben `int`-Zahlen als solche bestehen und es werden nicht plötzlich `floats` daraus. Mit der Operation `/` (Division) entstehen aber immer `floats`. Python bietet aber auch die \"Ganzzahldivision\" `//` an. Wenn wir mit `//` dividieren, wird immer ein `int` erzeugt. Es handelt sich also um eine Kombination aus `/` und `int`:"
   ]
  },
  {
   "cell_type": "code",
   "execution_count": 36,
   "metadata": {},
   "outputs": [
    {
     "data": {
      "text/plain": [
       "2"
      ]
     },
     "execution_count": 36,
     "metadata": {},
     "output_type": "execute_result"
    }
   ],
   "source": [
    "5//2"
   ]
  },
  {
   "cell_type": "markdown",
   "metadata": {},
   "source": [
    "Dies können wir jetzt für die Multiplikation mit den Zeichen verwenden:"
   ]
  },
  {
   "cell_type": "code",
   "execution_count": 2,
   "metadata": {},
   "outputs": [
    {
     "data": {
      "text/plain": [
       "'##'"
      ]
     },
     "execution_count": 2,
     "metadata": {},
     "output_type": "execute_result"
    }
   ],
   "source": [
    "(5//2) * \"#\""
   ]
  },
  {
   "cell_type": "markdown",
   "metadata": {},
   "source": [
    "Als Ergänzung zur Ganzzahldivision sei hier auch noch die Modulooperation erwähnt. Diese gibt den Rest der Division zurück. Bei der Operation \"19 geteilt durch 5\" würden wir das Ganzzahlresultat 3 erhalten aus der Python-Operation `19//5` und den Rest von 4 aus der Python Operation `19%5`."
   ]
  },
  {
   "cell_type": "code",
   "execution_count": 8,
   "metadata": {},
   "outputs": [
    {
     "name": "stdout",
     "output_type": "stream",
     "text": [
      "Ganzzahldivision 19//5 = 3\n",
      "Rest der Division 19%5 = 4\n"
     ]
    }
   ],
   "source": [
    "print(f\"Ganzzahldivision 19//5 = {19//5}\")\n",
    "print(f\"Rest der Division 19%5 = {19%5}\")"
   ]
  },
  {
   "cell_type": "markdown",
   "metadata": {},
   "source": [
    "# 3) Clean-code und Klassen\n",
    "\n",
    "## Clean-code\n",
    "\n",
    "### Source code conventions\n",
    "\n",
    "In produktiven Software Teams einigt man sich üblicherweise auf eine Reihe von Konventionen, wie man Code schreibt. Dies verbessert die Lesbarkeit und vereinfacht die Zusammenarbeit. Konventionen haben verschiedene Aspekte:\n",
    "\n",
    "**Sprachen-spezifische Konventionen**\n",
    "\n",
    "Jede Programmiersprache befolgt ihre eigenen Konventionen, wie Bezeichner (Variablennamen, Klassennamen, ...) geschrieben werden.\n",
    "\n",
    "In Python werden üblicherweise\n",
    "\n",
    "  * Variablen und Funktionsnamen mit Kleinbuchstaben geschrieben: `name`, `addresse`. Wenn ein Bezeichner aus mehreren Worten besteht, werden die Wortteile durch ein `_` getrennt: `konto_inhaber`, `buchstaben_mischen`.\n",
    "  <br />Dieser Namensstil wird auch *snake case* genannt.\n",
    "  * Klassennamen beginnen mit Grossbuchstaben: `Bankkonto`, `Spieler`. Wenn ein Bezeichner aus mehreren Worten besteht, werden die einzelnen Wortteile wieder mit einem Grossbuchstaben gestartet und ohne Abstände aneinander gehängt: `SpielerFigur`, `BuchstabenListe`.\n",
    "  <br />Dieser Namensstil wird auch *Pascal case* genannt.\n",
    "  * Konstanten, also Variablen, welche ihren Wert zur Laufzeit des Programms nicht ändern, werden vollständig in Grossbuchstaben, und bei mehreren Worten durch `_` getrennt geschrieben: `MAXIMALE_BUCHSTABEN_ANZAHL`, `STANDARD_WERT`.\n",
    "  <br />Dieser Namensstil wird manchmal auch *screaming snake case* oder *shouty snake case* genannt.\n",
    "\n",
    "**Team interne Konventionen**\n",
    "\n",
    "Zusätzlich zu den Sprachspezifischen Konventionen können Teams ihre internen und eigenen Konventionen einführen. Beispiele könnten sein\n",
    "\n",
    "  * Wir hängen immer die Einheiten von Messwerten an Variablen und Funktionsnamen.\n",
    "  * Wir schreiben alles in Englisch und übersetzen auch Begriffe z.B. aus einer Schweizer-Behörde.\n",
    "  * Wir verwenden folgende Abkürzungen: ......\n",
    "  * Eine Zeile darf maximal 120 Zeichen lang werden\n",
    "  * Schleifen und Abfragen dürfen nicht mehr als 3 Verschachtelungstiefen erreichen."
   ]
  },
  {
   "cell_type": "markdown",
   "metadata": {},
   "source": [
    "### Motivationsbeispiel\n",
    "\n",
    "Nehmen wir an, dass wir eine Bibliothek für physikalische Berechnungen schreiben. Diese bietet zum Beispiel eine Funktion zur Berechnung einer Geschwindigkeit an:"
   ]
  },
  {
   "cell_type": "code",
   "execution_count": 9,
   "metadata": {},
   "outputs": [],
   "source": [
    "def geschwindigkeit(distanz, zeit):\n",
    "    return distanz / zeit"
   ]
  },
  {
   "cell_type": "markdown",
   "metadata": {},
   "source": [
    "Irgendwo anders in unserem Code wollen wir dann diese Funktion aufrufen."
   ]
  },
  {
   "cell_type": "code",
   "execution_count": 12,
   "metadata": {},
   "outputs": [
    {
     "name": "stdout",
     "output_type": "stream",
     "text": [
      "2.0\n"
     ]
    }
   ],
   "source": [
    "zurück_gelegte_distanz = 20  # würde z.B. aus einer Messung stammen\n",
    "benötigte_zeit = 10  # auch dies käme aus einer Messung\n",
    "meine_geschwindigkeit = geschwindigkeit(zurück_gelegte_distanz, benötigte_zeit)\n",
    "\n",
    "print(meine_geschwindigkeit)"
   ]
  },
  {
   "cell_type": "markdown",
   "metadata": {},
   "source": [
    "Aber welche Einheit hat diese Geschwindigkeit nun?\n",
    "\n",
    "Durch einen einfachen Suffix an den Namen der Variablen können wir dies klar machen. Wir verwenden z.B. `_m` zur Darstellung von Metern und `_s` zur Darstellung von Sekunden:"
   ]
  },
  {
   "cell_type": "code",
   "execution_count": 41,
   "metadata": {},
   "outputs": [],
   "source": [
    "zurück_gelegte_distanz_m = 20\n",
    "benötigte_zeit_s = 10"
   ]
  },
  {
   "cell_type": "markdown",
   "metadata": {},
   "source": [
    "## Klassen\n",
    "\n",
    "Klassen erlauben es, eine Sammlung an Daten und dem dazugehörigen Verhalten (Funktionen) zu kombinieren und als verallgemeinertes Konzept darzustellen. Dies vereinfacht die Verwendung der entsprechenden Daten.\n",
    "\n",
    "### Beispiel \"Spielfiguren\"\n",
    "\n",
    "Nehmen wir an, wir wollten ein Spiel programmieren. In diesem Spiel kann der Spieler eine Spielfigur kontrollieren, welche auf dem Bildschirm an einer bestimmten Position und in einer bestimmten Farbe angezeigt wird. Zusätzlich hat die Figur eine Menge an Lebenspunkten (Englisch \"Hit Points\", bzw. kurz HP). All diese Werte könnten wir ganz einfach in individuellen Variablen speichern:"
   ]
  },
  {
   "cell_type": "code",
   "execution_count": 42,
   "metadata": {},
   "outputs": [],
   "source": [
    "spieler_position_x = 100\n",
    "spieler_position_y = 150\n",
    "spieler_farbe = \"grün\"\n",
    "spieler_hp = 200"
   ]
  },
  {
   "cell_type": "markdown",
   "metadata": {},
   "source": [
    "Damit das Spiel spannend wird, fügen wir auch noch ein Monster hinzu. Auch dieses wird an einer Position auf dem Bildschirm dargestellt, auch dieses hat eine Farbe und auch das Monster hat Hit Points:"
   ]
  },
  {
   "cell_type": "code",
   "execution_count": 43,
   "metadata": {},
   "outputs": [],
   "source": [
    "monster_position_x = 200\n",
    "monster_position_y = 250\n",
    "monster_farbe = \"rot\"\n",
    "monster_hp = 50"
   ]
  },
  {
   "cell_type": "markdown",
   "metadata": {},
   "source": [
    "Bis hierher haben wir nur die Datenhaltung von Spielerfigur und Monster implementiert. Nun möchten wir beide auch tatsächlich noch auf dem Bildschirm darstellen. Um uns nicht mit den Details von graphischen Bibliotheken herumzuschlagen, geben wir für die Darstellung einfach die Farbe und die Koordination mit einem `print()` aus:"
   ]
  },
  {
   "cell_type": "code",
   "execution_count": 44,
   "metadata": {},
   "outputs": [],
   "source": [
    "def figur_zeichnen(x, y, farbe):\n",
    "    print(f\"Figur in {farbe} an position {x}, {y}\")"
   ]
  },
  {
   "cell_type": "markdown",
   "metadata": {},
   "source": [
    "Wir können also jetzt Spielerfigur und Monster zeichnen:"
   ]
  },
  {
   "cell_type": "code",
   "execution_count": 45,
   "metadata": {},
   "outputs": [
    {
     "name": "stdout",
     "output_type": "stream",
     "text": [
      "Figur in grün an position 100, 150\n",
      "Figur in rot an position 200, 150\n"
     ]
    }
   ],
   "source": [
    "figur_zeichnen(spieler_position_x, spieler_position_y, spieler_farbe)\n",
    "figur_zeichnen(monster_position_x, spieler_position_y, monster_farbe)"
   ]
  },
  {
   "cell_type": "markdown",
   "metadata": {},
   "source": [
    "Oh, aber Achtung, da ist uns gerade ein Fehler passiert! Siehst du, wo?\n",
    "\n",
    "Da ist uns beim Aufruf der zweiten Funktion der falsche, zweite Parameter rein gerutscht. Wir haben ausversehen nochmal die Y-Position des Spielers eingefügt.\n",
    "\n",
    "Könnten wir das nicht anders schreiben, sodass solche Fehler nicht mehr passieren? Es wäre ja eigentlich klar, dass diese drei Variablen immer zusammen gehören. Ja natürlich geht das! Mit **Klassen**!!"
   ]
  },
  {
   "cell_type": "code",
   "execution_count": 18,
   "metadata": {},
   "outputs": [
    {
     "name": "stdout",
     "output_type": "stream",
     "text": [
      "Figur in rot an position 200, 250\n",
      "x-Koordinate des Spielers: 200\n"
     ]
    }
   ],
   "source": [
    "# Klassen sind gewissermassen Blueprints oder Baupläne für Instanzen oder Objekte.\n",
    "# Ähnlich wie in der Realität repräsentiert eine Klasse eine ganze Sammlung bzw.\n",
    "# eine Kategorie von tatsächlichen Objekten.\n",
    "class Figur:\n",
    "    # __init__() wird durch den Aufruf Figur() automatisch ausgeführt. Alle Parameter,\n",
    "    # die wir Figur() übergeben, werden der __init__() Funktion ebenfalls übergeben\n",
    "    def __init__(self, x, y, farbe, hp):\n",
    "        self.x = x\n",
    "        self.y = y\n",
    "        self.farbe = farbe\n",
    "        self.hp = hp\n",
    "        \n",
    "    # In allen Funktionen innerhalb der Klasse lautet der erste Parameter `self`, egal\n",
    "    # ob und wieviele zusätzlichen Parameter noch angegeben werden.\n",
    "    def zeichne(self):\n",
    "        print(f\"Figur in {self.farbe} an position {self.x}, {self.y}\")\n",
    "\n",
    "# Nun können wir neue Figuren erzeugen und sie Variablen zuweisen.\n",
    "spieler = Figur(100, 150, \"grün\", 200)\n",
    "monster = Figur(200, 250, \"rot\", 50)\n",
    "\n",
    "# Beim Aufruf der zeichnen()-Funktion brauchen wir uns keine Gedanken mehr zu machen,\n",
    "# welches die richtigen Werte sind. Die Werte sind schon alle im Objekt vorhanden.\n",
    "monster.zeichne()\n",
    "# Wenn wir wollten, könnten wir auch direkt auf diese Element im Objekt zugreifen\n",
    "print(f\"x-Koordinate des Spielers: {monster.x}\")"
   ]
  },
  {
   "cell_type": "markdown",
   "metadata": {},
   "source": [
    "Die Notation `spieler.zeichne()` mag noch etwas verwirren. In der Beschreibung der Klasse haben wir die Funktion `zeichne()` doch mit einem Parameter `self` deklariert, beim Aufrufen der gleichen Funktion müssen wir aber diesen jetzt scheinbar gar nicht mehr angeben.\n",
    "\n",
    "Dies liegt daran, dass die Notation `spieler.zeichne()` eine verkürzte Schreibweise des folgenden Codes darstellt."
   ]
  },
  {
   "cell_type": "code",
   "execution_count": 47,
   "metadata": {},
   "outputs": [
    {
     "name": "stdout",
     "output_type": "stream",
     "text": [
      "Figur in grün an position 100, 150\n"
     ]
    }
   ],
   "source": [
    "Figur.zeichne(spieler)"
   ]
  },
  {
   "cell_type": "markdown",
   "metadata": {},
   "source": [
    "Jetzt wird `zeichne()` tatsächlich der `spieler` als Parameter übergeben. Wir mussten uns aber auch noch erinnern, dass `spieler` aus der Klasse `Figur` erzeugt wurde und dass die Funktion `zeichne()` dort drin enthalten war (`Figur.zeichne()`). Diese Verknüpfung zwischen `spieler` und `Figur` hat sich Python aber schon für uns gemerkt und deshalb können wir dis auch verkürzt als `spieler.zeichne()` schreiben.\n",
    "\n",
    "Der Vollständigkeit halber ist hier auch noch das Erzeugen aus Zeichnen des Monsters dargestellt:"
   ]
  },
  {
   "cell_type": "code",
   "execution_count": 48,
   "metadata": {},
   "outputs": [
    {
     "name": "stdout",
     "output_type": "stream",
     "text": [
      "Figur in rot an position 200, 250\n"
     ]
    }
   ],
   "source": [
    "monster = Figur(200, 250, \"rot\", 50)\n",
    "monster.zeichne()"
   ]
  },
  {
   "cell_type": "markdown",
   "metadata": {},
   "source": [
    "<div class=\"alert alert-block alert-info\">\n",
    "    <p><b>Hinweis:</b> Funktionen die innerhalb von Klassen definiert werden, nennt man in der Softwareentwicklung auch <b>Methoden</b>.</p>\n",
    "</div>"
   ]
  },
  {
   "cell_type": "markdown",
   "metadata": {},
   "source": [
    "### Beispiel \"Vektoren\"\n",
    "\n",
    "Mit Klassen lassen sich auch abstraktere Konzepte zusammenfassen. Ein einfaches Beispiel dafür sind Vektoren aus der Mathematik. Für einen zweidimensionalen Vektor möchten wir zum Beispiel x- und y-Koordinaten zusammenfassen. Zusätzlich gibt es auch hier eine Reihe von Funktionen, die wir mit Vektoren ausführen möchten, wie zum Beispiel Addition von zwei Vektoren, Berechnen der Länge des Vektors etc."
   ]
  },
  {
   "cell_type": "code",
   "execution_count": 49,
   "metadata": {},
   "outputs": [],
   "source": [
    "import math\n",
    "\n",
    "\n",
    "class Vektor:\n",
    "    \"\"\"Eine ganz einfache Klasse, die einige wenige der Operationen von\n",
    "    mathematischen Vektoren implementiert\"\"\"\n",
    "\n",
    "    def __init__(self, x, y):\n",
    "        self.x = x\n",
    "        self.y = y\n",
    "\n",
    "    def länge(self):\n",
    "        return math.sqrt(self.x * self.x + self.y * self.y)\n",
    "\n",
    "    def plus(self, anderer_vektor):\n",
    "        \"\"\"Erzeugt einen neuen Vektor der aus der Summe dieses Vektors und des\n",
    "        `anderer_vektor`s besteht.\"\"\"\n",
    "        neues_x = self.x + anderer_vektor.x\n",
    "        neues_y = self.y + anderer_vektor.y\n",
    "        return Vektor(neues_x, neues_y)\n",
    "\n",
    "    # Die folgenden, speziellen Funktionen werden weiter unten genauer erläutert\n",
    "    def __add__(self, anderer_vektor):\n",
    "        \"\"\"Diese Methode erlaubt es, Instanzen der Klasse Vektor mit dem\n",
    "        +-Operator zu addieren.\"\"\"\n",
    "        return self.plus(anderer_vektor)\n",
    "\n",
    "    def __str__(self):\n",
    "        \"\"\"Die __str__ Funktion bietet eine schöne Darstellung eine Vektor-Objekts,\n",
    "        wenn wir dieses in einer Zeichenkette einfügen\"\"\"\n",
    "        return f\"Vektor({self.x},{self.y})\"\n"
   ]
  },
  {
   "cell_type": "markdown",
   "metadata": {},
   "source": [
    "Genau wie bei der `Figur` können wir nun von Vektoren wieder Instanzen erzeugen. Fürs erste wollen wir uns dann auf die Funktionen `länge()` und `plus()` konzentrieren und schauen, was damit möglich ist:"
   ]
  },
  {
   "cell_type": "code",
   "execution_count": 50,
   "metadata": {},
   "outputs": [],
   "source": [
    "v1 = Vektor(5, 6)\n",
    "v2 = Vektor(1, 1)"
   ]
  },
  {
   "cell_type": "markdown",
   "metadata": {},
   "source": [
    "Die Funktion `plus()` nimmt einen anderen Vektor entgegen, zählt diesen zum eigenen Vektor Komponenten-weise dazu und gibt einen neuen Vektor mit der Summe zurück:"
   ]
  },
  {
   "cell_type": "code",
   "execution_count": 51,
   "metadata": {},
   "outputs": [
    {
     "name": "stdout",
     "output_type": "stream",
     "text": [
      "Vektor(6,7)\n"
     ]
    }
   ],
   "source": [
    "v_summe = v1.plus(v2)\n",
    "print(v_summe)"
   ]
  },
  {
   "cell_type": "markdown",
   "metadata": {},
   "source": [
    "Und mit der `länge()`-Funktion erhalten wir die Länge des Vektors, mathematisch also die Operation $$\\| \\mathbf{v} \\|$$"
   ]
  },
  {
   "cell_type": "code",
   "execution_count": 52,
   "metadata": {},
   "outputs": [
    {
     "name": "stdout",
     "output_type": "stream",
     "text": [
      "Länge von v1: 7.810249675906654\n"
     ]
    }
   ],
   "source": [
    "print(f\"Länge von v1: {v1.länge()}\")"
   ]
  },
  {
   "cell_type": "markdown",
   "metadata": {},
   "source": [
    "### Spezielle Funktionen"
   ]
  },
  {
   "cell_type": "markdown",
   "metadata": {},
   "source": [
    "<div class=\"alert alert-block alert-info\">\n",
    "    <p><b>Hinweis:</b> Dieses Kapitel geht auf fortgeschrittenere Themen von Python ein. Python-Einsteiger können diesen Abschnitt fürs erste gerne ignorieren ohne dabei etwas für das eigene Projekt zu verpassen.</p>\n",
    "</div>"
   ]
  },
  {
   "cell_type": "markdown",
   "metadata": {},
   "source": [
    "Die Notation `v1.plus(v2)` zur Addition von zwei Vektoren ist etwas sperrig, wenn wir Vektor-Addition aus der Mathematik kennen. Dort schreiben wir ja in der Regel `v1 + v2`. Es wäre doch schön, wenn wir dies auch mit Python machen könnten. Tatsächlich ist dies auch möglich. Wenn wir in unserer Klasse die Funktion `__add__(self, other)` implementieren, benutzt Python diese Funktion automatisch, wenn wir links von einem `+` eine Instanz/ein Objekt unserer Klasse stehen haben. Der Teil rechts des `+` wird dann der `__add__`-Funktion als Parameter übergeben:"
   ]
  },
  {
   "cell_type": "code",
   "execution_count": 53,
   "metadata": {},
   "outputs": [],
   "source": [
    "v3 = v1 + v2\n",
    "# der obige Code entspricht dieser umständlicheren Variante\n",
    "v3 = v1.__add__(v2)"
   ]
  },
  {
   "cell_type": "markdown",
   "metadata": {},
   "source": [
    "Python erlaubt auch die Implementierung anderer Operationen, wie `-`, `/`, `*`, .... Details dazu findet Ihr unter https://docs.python.org/3/reference/datamodel.html#emulating-numeric-types sowie im Internet wenn Ihr nach \"Python magic methods\" sucht.\n",
    "\n",
    "Eine weitere Spezialfunktion ist `__str__()`. Der Zweck dieser Funktion ist es, eine schöne Textdarstellung unseres Vektor-Objekts zu erzeugen. Wenn wir nochmal auf den `spieler` von weiter oben zurück greifen und diesen einfach als Text ausgeben, sieht das in etwa so aus:"
   ]
  },
  {
   "cell_type": "code",
   "execution_count": 54,
   "metadata": {},
   "outputs": [
    {
     "name": "stdout",
     "output_type": "stream",
     "text": [
      "<__main__.Figur object at 0x000002581D7067B0>\n"
     ]
    }
   ],
   "source": [
    "print(f\"{spieler}\")"
   ]
  },
  {
   "cell_type": "markdown",
   "metadata": {},
   "source": [
    "Diese Ausgabe ist nicht sehr aussagekräftig. Wir haben keine Ahnung, um welche Figur es sich hier handelt. Mindestens schön könnte es ja sein, die Farbe und die Hit-Points der Figur zu erfahren. Für den Vektor haben wir dieses Problem gelöst, in dem wir in der Funktion `__str__` eine Zeichenkette zurückgeben, welche den Vektor in etwas menschenlesbarer Form zurück gibt. Damit ist die Ausgabe auch etwas schöner, wenn wir den Vektor printen:"
   ]
  },
  {
   "cell_type": "code",
   "execution_count": 55,
   "metadata": {},
   "outputs": [
    {
     "name": "stdout",
     "output_type": "stream",
     "text": [
      "Vektor(5,6)\n"
     ]
    }
   ],
   "source": [
    "print(f\"{v1}\")"
   ]
  },
  {
   "cell_type": "code",
   "execution_count": 56,
   "metadata": {},
   "outputs": [],
   "source": [
    "# Diese Zelle kann nur ausgeführt werden, wenn iplantuml installiert wurde\n",
    "# und ist auch nur nötig, wenn man Änderungen an den Diagrammen vornehmen will\n",
    "import iplantuml"
   ]
  },
  {
   "cell_type": "markdown",
   "metadata": {},
   "source": [
    "## Aufgabenstellung\n",
    "\n",
    "Schreibe eine Python-Klasse, die Bankkonten abbildet. Diese neue Klasse `BankKonto` soll folgende Funktionen anbieten:\n",
    "\n",
    " * Mit der Funktion `einzahlen(self, betrag)` soll es möglich sein, einen Geldbetrag in CHF auf das Konto einzuzahlen.\n",
    " * Mit der Funktion `abheben(self, betrag)` soll es möglich sein, einen Geldbetrag in CHF vom Konto abzuheben\n",
    " * Mit der Funktion `kontostand(self)` soll der aktuelle Kontostand des Kontos in CHF zurück geliefert werden.\n",
    " * Mit der Funktion `konto_stand_in_eur(self)` soll der aktuelle Kontostand des Kontos aufgrund eines fixen Umrechnungsfaktors zurück geliefert werden.\n",
    " * Mit der Funktion `überweisen(self, anderes_konto, betrag)` soll es möglich sein, den angegebenen Betrag in CHF von diesem Konto auf das übergebene `anderes_konto` zu überweisen.\n",
    "\n",
    "Diese Anforderungen könnten auch in Form eines UML Diagramms wie folgt dargestellt werden:"
   ]
  },
  {
   "cell_type": "code",
   "execution_count": 59,
   "metadata": {},
   "outputs": [
    {
     "data": {
      "image/svg+xml": [
       "<svg xmlns=\"http://www.w3.org/2000/svg\" xmlns:xlink=\"http://www.w3.org/1999/xlink\" contentStyleType=\"text/css\" data-diagram-type=\"CLASS\" height=\"150px\" preserveAspectRatio=\"none\" style=\"width:291px;height:150px;background:#FFFFFF;\" version=\"1.1\" viewBox=\"0 0 291 150\" width=\"291px\" zoomAndPan=\"magnify\"><defs/><g><!--class BankKonto--><g class=\"entity\" data-entity=\"BankKonto\" data-source-line=\"1\" data-uid=\"ent0002\" id=\"entity_BankKonto\"><rect fill=\"#F1F1F1\" height=\"129.4844\" rx=\"2.5\" ry=\"2.5\" style=\"stroke:#181818;stroke-width:0.5;\" width=\"270.7266\" x=\"7\" y=\"7\"/><ellipse cx=\"100.1943\" cy=\"23\" fill=\"#ADD1B2\" rx=\"11\" ry=\"11\" style=\"stroke:#181818;stroke-width:1;\"/><path d=\"M103.1631,28.6406 Q102.585,28.9375 101.9443,29.0781 Q101.3037,29.2344 100.6006,29.2344 Q98.1006,29.2344 96.7725,27.5938 Q95.46,25.9375 95.46,22.8125 Q95.46,19.6875 96.7725,18.0313 Q98.1006,16.375 100.6006,16.375 Q101.3037,16.375 101.9443,16.5313 Q102.6006,16.6875 103.1631,16.9844 L103.1631,19.7031 Q102.5381,19.125 101.9443,18.8594 Q101.3506,18.5781 100.7256,18.5781 Q99.3818,18.5781 98.6943,19.6563 Q98.0068,20.7188 98.0068,22.8125 Q98.0068,24.9063 98.6943,25.9844 Q99.3818,27.0469 100.7256,27.0469 Q101.3506,27.0469 101.9443,26.7813 Q102.5381,26.5 103.1631,25.9219 L103.1631,28.6406 Z \" fill=\"#000000\"/><text fill=\"#000000\" font-family=\"sans-serif\" font-size=\"14\" lengthAdjust=\"spacing\" textLength=\"75.8379\" x=\"120.6943\" y=\"27.8467\">BankKonto</text><line style=\"stroke:#181818;stroke-width:0.5;\" x1=\"8\" x2=\"276.7266\" y1=\"39\" y2=\"39\"/><line style=\"stroke:#181818;stroke-width:0.5;\" x1=\"8\" x2=\"276.7266\" y1=\"47\" y2=\"47\"/><text fill=\"#000000\" font-family=\"sans-serif\" font-size=\"14\" lengthAdjust=\"spacing\" textLength=\"142.1875\" x=\"13\" y=\"63.9951\">einbezahlen(betrag)</text><text fill=\"#000000\" font-family=\"sans-serif\" font-size=\"14\" lengthAdjust=\"spacing\" textLength=\"118.46\" x=\"13\" y=\"80.292\">abheben(betrag)</text><text fill=\"#000000\" font-family=\"sans-serif\" font-size=\"14\" lengthAdjust=\"spacing\" textLength=\"125.5488\" x=\"13\" y=\"96.5889\">float kontostand()</text><text fill=\"#000000\" font-family=\"sans-serif\" font-size=\"14\" lengthAdjust=\"spacing\" textLength=\"175.5537\" x=\"13\" y=\"112.8857\">float kontostand_in_eur()</text><text fill=\"#000000\" font-family=\"sans-serif\" font-size=\"14\" lengthAdjust=\"spacing\" textLength=\"258.7266\" x=\"13\" y=\"129.1826\">ueberweisen(anderes_konto, betrag)</text></g><!--SRC=[ROvTIyD044NVzrVCOmAssA9I-YIrAgG95clw6cQJQRfaCrls8qN5_-wsM0Hn7kyzzp2rHkTWWToj37i3dmBYaM997xZNn8aaRx5DppdAFSa_sKuRzD2TriuZDyd_SQMuec1_sX0rzaZAHLaioPAhpkmLNDnVufwu4MAjaNrPv32GTSemJCRJw-djU1P1d2GbTsoE3BNf3qeJUDLJAfBdTGxE15iJDCfvgsJmSPoA30U4ry0dRWul1-9ikRe4yCY3iePxOY-oRV4BtDsC5ih3Xcny0xQ5MD8EW_PnKPj6SJk7ykrfD1CvSXkmZMvYyM2Yrxx7RlCD]--></g></svg>"
      ],
      "text/plain": [
       "<IPython.core.display.SVG object>"
      ]
     },
     "execution_count": 59,
     "metadata": {},
     "output_type": "execute_result"
    }
   ],
   "source": [
    "%%plantuml\n",
    "@startuml\n",
    "\n",
    "class BankKonto {\n",
    "    einbezahlen(betrag)\n",
    "    abheben(betrag)\n",
    "    float kontostand()\n",
    "    float kontostand_in_eur()\n",
    "    ueberweisen(anderes_konto, betrag)\n",
    "}\n",
    "@end"
   ]
  },
  {
   "cell_type": "markdown",
   "metadata": {},
   "source": [
    "Versuche dann mit Deiner Implementierung der `BankKonto`-Klasse folgenden Beispiel-Code zu implementieren und auszuführen."
   ]
  },
  {
   "cell_type": "code",
   "execution_count": 19,
   "metadata": {},
   "outputs": [
    {
     "name": "stdout",
     "output_type": "stream",
     "text": [
      "Annas Kontostand: 300\n",
      "Nach der Überweisung:\n",
      "Annas Kontostand: 250\n",
      "Peters Kontostand: 150\n",
      "Annas Kontostand in Euro: 237.5\n",
      "Nicht genügend Guthaben!\n",
      "Peters Kontostand nach Überziehen: 150\n"
     ]
    }
   ],
   "source": [
    "class BankKonto:\n",
    "    def __init__(self, inhaber, start_betrag=0):\n",
    "        self.inhaber = inhaber      \n",
    "        self.kontostand_chf = start_betrag  \n",
    "        # self.inhaber speichert den Namen des Kontoinhabers\n",
    "        # self.kontostand_chf speichert den aktuellen Kontostand in CHF\n",
    "        \n",
    "    def einbezahlen(self, betrag):\n",
    "        # Einzahlung: Erhöht den Kontostand um den angegebenen Betrag\n",
    "        self.kontostand_chf += betrag\n",
    "\n",
    "    def abheben(self, betrag):\n",
    "        # Abheben: Prüft zuerst, ob genügend Guthaben vorhanden ist\n",
    "        if betrag <= self.kontostand_chf:\n",
    "            # Falls ja, wird der Betrag abgezogen\n",
    "            self.kontostand_chf -= betrag\n",
    "        else:\n",
    "            # Falls nicht, Fehlermeldung ausgeben\n",
    "            print(\"Nicht genügend Guthaben!\")\n",
    "\n",
    "    def kontostand(self):\n",
    "        # Gibt den aktuellen Kontostand in CHF zurück\n",
    "        return self.kontostand_chf\n",
    "\n",
    "    def kontostand_in_eur(self):   \n",
    "        # Rechnet den aktuellen Kontostand in Euro um\n",
    "        # Hier mit einem fixen Umrechnungsfaktor (CHF → EUR)\n",
    "        umrechnungsfaktor = 0.95  \n",
    "        return self.kontostand_chf * umrechnungsfaktor\n",
    "\n",
    "    def überweisen(self, anderes_konto, betrag):  \n",
    "        # Überweisung: Prüft, ob genügend Guthaben vorhanden ist\n",
    "        if betrag <= self.kontostand_chf:\n",
    "            # Falls ja, wird der Betrag vom eigenen Konto abgezogen\n",
    "            self.kontostand_chf -= betrag\n",
    "            # und auf das andere Konto gutgeschrieben\n",
    "            anderes_konto.kontostand_chf += betrag\n",
    "        else:\n",
    "            # Falls nicht, Fehlermeldung ausgeben\n",
    "            print(\"Überweisung nicht möglich, nicht genug Guthaben!\")\n",
    "\n",
    "\n",
    "\n",
    "# Hast Du der __init__-Funktion die Möglichkeit gegeben, den Namen des Kontoinhabers und einen Start-Wert für das Konto anzugeben?\n",
    "konto_anna = BankKonto(\"Anna\", 200)  # Anna soll ein Konto mit 200 Franken Start-Kapital haben\n",
    "\n",
    "konto_peter = BankKonto(\"Peter\", 100)  # Auf Peters Konto sind anfänglich nur 100 Franken\n",
    "\n",
    "konto_anna.einbezahlen(100)  # wir bezahlen auf Annas Konto 100 Franken ein, neu sollte da 300 Franken drauf sein\n",
    "# Gibt die folgende Zeile tatsächlich 300 aus? Hast Du sichergestellt, dass die Funktion kontostand() einen Wert\n",
    "# zurück liefert mit `return`? Oder hast Du diesen nur mit `print` ausgegeben?\n",
    "print(f\"Annas Kontostand: {konto_anna.kontostand()}\")\n",
    "\n",
    "konto_anna.überweisen(konto_peter, 50)  # wir überweisen 50 Franken von Annas Konto auf Peters Konto\n",
    "# Stimmen die neuen Kontostände wieder?\n",
    "print(\"Nach der Überweisung:\")\n",
    "print(f\"Annas Kontostand: {konto_anna.kontostand()}\")\n",
    "print(f\"Peters Kontostand: {konto_peter.kontostand()}\")\n",
    "\n",
    "# Hast Du auch die Funktion für eine Währungsumrechnung implementiert? Was gibt bei Dir folgender Aufruf aus?\n",
    "print(f\"Annas Kontostand in Euro: {konto_anna.kontostand_in_eur()}\")\n",
    "\n",
    "# Hast Du Dir auch schon Gedanken gemacht, was passieren soll, wenn das Konto überzogen wird? Erlaubst Du dies?\n",
    "# Diese Gedanken kannst Du Dir mit den Erweiterungen im folgenden Abschnitt machen.\n",
    "konto_peter.abheben(1000)\n",
    "print(f\"Peters Kontostand nach Überziehen: {konto_peter.kontostand()}\")"
   ]
  },
  {
   "cell_type": "markdown",
   "metadata": {},
   "source": [
    "### Erweiterung der Anforderungen\n",
    "\n",
    "Wenn Du die ursprünglichen Anforderungen erfüllt hast, versuche auch noch eine oder mehrere der folgenden Anforderungen zu erfüllen:\n",
    "\n",
    " * Überlege dir, wie Du verhindern könntest, dass man ein Konto überziehen kann. Überlege Dir dabei, wie du den Nutzer Deiner Klasse darüber informieren willst, dass die `abheben`-Funktion nicht erfolgreich war."
   ]
  },
  {
   "cell_type": "code",
   "execution_count": 2,
   "metadata": {},
   "outputs": [
    {
     "name": "stdout",
     "output_type": "stream",
     "text": [
      "40\n",
      "Startzustand:\n",
      "Silvans Konto: 40 CHF\n",
      "Susans Konto: 30 CHF\n",
      "\n",
      "Zustand nach der Überweisung von 25 CHF:\n",
      "Silvans Konto: 15 CHF\n",
      "Susans Konto: 55 CHF\n"
     ]
    }
   ],
   "source": [
    "# Musterlösung Dozent \"Bankkonto\" (Wegmann, 2025)\n",
    "\n",
    "\"\"\"Beispielimplementierung zur Einführung in Klassen in Python.\n",
    "\n",
    "Es wird eine einfache Implementierung eines Bankkontos gezeigt.\n",
    "\n",
    "Gemäss Aufgabenstellung sollte eine Klasse \"Bankkonto\" mit\n",
    "folgenden Methoden implementiert werden:\n",
    "\n",
    "    1. Eine Methode einzahlen(self, betrag), um einen Geldbetrag\n",
    "       in CHF auf das Konto einzuzahlen\n",
    "    2. Eine Methode abhheben(self, betrag), um einen Geldbetrag\n",
    "       in CHF vom Konto zu ab zu heben\n",
    "    3. Eine Methode kontostand(self) anbieten, mit der man den\n",
    "       aktuellen Kontostand in CHF abfragen kann\n",
    "    4. Eine Methode kontostand_in_euro(self) anbieten, mit der\n",
    "       man den aktuellen Kontostand zu einem Wechselkurs in EUR\n",
    "       abfragen kann\n",
    "    5. Eine Methode überweisen(self, anderes_konto, betrag) mit\n",
    "       der man den angegebenen Betrag auf das angegebene Konto\n",
    "       überweisen kann\n",
    "\"\"\"\n",
    "\n",
    "\n",
    "class Bankkonto:\n",
    "    \"\"\"Klasse zur Verwaltung eines Bankkontos\"\"\"\n",
    "    def __init__(self, inhaber_name, start_betrag_in_chf):\n",
    "        self.inhaber_name = inhaber_name\n",
    "        self.kontostand_in_chf = start_betrag_in_chf\n",
    "\n",
    "    def kontostand(self):\n",
    "        \"\"\"Liefert den aktuellen Kontostand in Schweizer Franken\"\"\"\n",
    "        return self.kontostand_in_chf\n",
    "\n",
    "    def kontostand_in_eur(self):\n",
    "        \"\"\"Liefert den aktuellen Kontostand umgerechnet mit einem\n",
    "        fixen Konversionsfaktor in Euro.\"\"\"\n",
    "        return self.kontostand_in_chf * 0.97\n",
    "\n",
    "    def einzahlen(self, einzahl_betrag):\n",
    "        \"\"\"Zahlt den angegebenen Betrag auf das Konto ein.\"\"\"\n",
    "        self.kontostand_in_chf += einzahl_betrag\n",
    "\n",
    "    def abheben(self, abhebe_betrag):\n",
    "        \"\"\"Hebt den angegebenen Betrag vom Konto ab.\"\"\"\n",
    "        if self.kontostand_in_chf < abhebe_betrag:\n",
    "            raise ValueError(\"Kontostand zu niedrig\")\n",
    "        self.kontostand_in_chf -= abhebe_betrag\n",
    "\n",
    "    def überweisen(self, anderes_konto, betrag):\n",
    "        \"\"\"Überweist den angegebenen Betrag auf das angegebenen andere\n",
    "        Konto.\"\"\"\n",
    "        # An dieser Stelle könnte man die Überweisung auch durch den Code\n",
    "        # implementieren, den wird schon in einzahlen() und abheben()\n",
    "        # verwendet haben, also wie folgt\n",
    "        #\n",
    "        #   self.kontostand_in_chf -= betrag\n",
    "        #   anderes_konto.kontostand_in_chf += betrag\n",
    "        #\n",
    "        # Der Nachteil an dieser Version ist, dass wir alle Ergänzungen,\n",
    "        # welche wir in einzahlen() und abheben() noch machen, auch hier\n",
    "        # wieder ergänzen müssten. Z.B. haben wir schon Code eingefügt,\n",
    "        # um ein Überziehen des Kontos zu verhindern. Dies müssten wir\n",
    "        # auch hier wieder einfügen.\n",
    "        self.abheben(betrag)\n",
    "        anderes_konto.einzahlen(betrag)\n",
    "\n",
    "    def __str__(self):\n",
    "        \"\"\"Mit der __str__-Methode kann man eine schönere Darstellung eines\n",
    "        Bankkontos erreichen, wenn man dieses als Parameter bei einem print()-\n",
    "        Aufruf übergibt. In diesem Beispiel wird dazu der/die Kontoinhaber/in\n",
    "        gefolgt vom aktuellen Kontostand ausgegeben.\"\"\"\n",
    "        return f\"{self.inhaber_name}s Konto: {self.kontostand_in_chf} CHF\"\n",
    "\n",
    "\n",
    "mein_konto = Bankkonto(\"Silvan\", 40)\n",
    "susans_konto = Bankkonto(\"Susan\", 30)\n",
    "\n",
    "print(mein_konto.kontostand())\n",
    "\n",
    "print(\"Startzustand:\")\n",
    "print(mein_konto)\n",
    "print(susans_konto)\n",
    "print()  # Aufrufen der Funktion 'print' ohne Parameter erzeugt einen Zeilenumbruch\n",
    "\n",
    "\n",
    "mein_konto.überweisen(susans_konto, 25)\n",
    "\n",
    "print(\"Zustand nach der Überweisung von 25 CHF:\")\n",
    "print(mein_konto)\n",
    "print(susans_konto)"
   ]
  }
 ],
 "metadata": {
  "kernelspec": {
   "display_name": ".venv",
   "language": "python",
   "name": "python3"
  },
  "language_info": {
   "codemirror_mode": {
    "name": "ipython",
    "version": 3
   },
   "file_extension": ".py",
   "mimetype": "text/x-python",
   "name": "python",
   "nbconvert_exporter": "python",
   "pygments_lexer": "ipython3",
   "version": "3.13.7"
  }
 },
 "nbformat": 4,
 "nbformat_minor": 2
}
